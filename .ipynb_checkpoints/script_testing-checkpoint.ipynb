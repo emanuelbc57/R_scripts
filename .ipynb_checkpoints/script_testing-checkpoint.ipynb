{
 "cells": [
  {
   "cell_type": "code",
   "execution_count": 11,
   "id": "4d5caeac-8a6e-453e-868b-03f361b830fa",
   "metadata": {},
   "outputs": [],
   "source": [
    "source('./basic_mat.R')"
   ]
  },
  {
   "cell_type": "code",
   "execution_count": 16,
   "id": "aaea1729-9de1-45e0-8440-a6ed857e7118",
   "metadata": {},
   "outputs": [
    {
     "name": "stdout",
     "output_type": "stream",
     "text": [
      "      [,1] [,2] [,3] [,4] [,5] [,6] [,7] [,8] [,9] [,10] [,11] [,12] [,13]\n",
      " [1,]    1    0    0    0    0    0    0    0    0     0     0     0     0\n",
      " [2,]    0    1    0    0    0    0    0    0    0     0     0     0     0\n",
      " [3,]    0    0    1    0    0    0    0    0    0     0     0     0     0\n",
      " [4,]    0    0    0    1    0    0    0    0    0     0     0     0     0\n",
      " [5,]    0    0    0    0    1    0    0    0    0     0     0     0     0\n",
      " [6,]    0    0    0    0    0    1    0    0    0     0     0     0     0\n",
      " [7,]    0    0    0    0    0    0    1    0    0     0     0     0     0\n",
      " [8,]    0    0    0    0    0    0    0    1    0     0     0     0     0\n",
      " [9,]    0    0    0    0    0    0    0    0    1     0     0     0     0\n",
      "[10,]    0    0    0    0    0    0    0    0    0     1     0     0     0\n",
      "[11,]    0    0    0    0    0    0    0    0    0     0     1     0     0\n",
      "[12,]    0    0    0    0    0    0    0    0    0     0     0     1     0\n",
      "[13,]    0    0    0    0    0    0    0    0    0     0     0     0     1\n",
      "[14,]    0    0    0    0    0    0    0    0    0     0     0     0     0\n",
      "[15,]    0    0    0    0    0    0    0    0    0     0     0     0     0\n",
      "      [,14] [,15]\n",
      " [1,]     0     0\n",
      " [2,]     0     0\n",
      " [3,]     0     0\n",
      " [4,]     0     0\n",
      " [5,]     0     0\n",
      " [6,]     0     0\n",
      " [7,]     0     0\n",
      " [8,]     0     0\n",
      " [9,]     0     0\n",
      "[10,]     0     0\n",
      "[11,]     0     0\n",
      "[12,]     0     0\n",
      "[13,]     0     0\n",
      "[14,]     1     0\n",
      "[15,]     0     1\n"
     ]
    }
   ],
   "source": [
    "print(elementary_matrix(,15))"
   ]
  },
  {
   "cell_type": "code",
   "execution_count": null,
   "id": "372b35a3-2f8f-41ca-a72c-8fb123942262",
   "metadata": {},
   "outputs": [],
   "source": [
    "null_matrix_1 <- function(dim = c(5,3){\n",
    "    dim <- as.array(dim)\n",
    "    if (length(dim) == 2) {\n",
    "        mat <- rep(0, dim[1]) %*% t(rep(0, dim[2]))\n",
    "    } else {\n",
    "        mat <- rep(0, dim[1]) %*% t(rep(0, dim[1]))\n",
    "    }\n",
    "    return(mat)\n",
    "}"
   ]
  },
  {
   "cell_type": "code",
   "execution_count": 19,
   "id": "31f7a6b7-324c-4b94-b4c3-58b81913fbb4",
   "metadata": {},
   "outputs": [
    {
     "name": "stdout",
     "output_type": "stream",
     "text": [
      "     [,1] [,2] [,3]\n",
      "[1,]    0    0    0\n",
      "[2,]    0    0    0\n",
      "[3,]    0    0    0\n",
      "[4,]    0    0    0\n",
      "[5,]    0    0    0\n"
     ]
    }
   ],
   "source": [
    "dim <- c(5,3)\n",
    "mat <- rep(0, dim[1]) %*% t(rep(0, dim[2]))\n",
    "print(mat)"
   ]
  }
 ],
 "metadata": {
  "kernelspec": {
   "display_name": "R",
   "language": "R",
   "name": "ir"
  },
  "language_info": {
   "codemirror_mode": "r",
   "file_extension": ".r",
   "mimetype": "text/x-r-source",
   "name": "R",
   "pygments_lexer": "r",
   "version": "4.5.1"
  }
 },
 "nbformat": 4,
 "nbformat_minor": 5
}
